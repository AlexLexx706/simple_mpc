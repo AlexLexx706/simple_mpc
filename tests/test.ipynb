{
 "cells": [
  {
   "cell_type": "code",
   "execution_count": 2,
   "metadata": {},
   "outputs": [
    {
     "data": {
      "text/plain": [
       "[DM(1.89057)]"
      ]
     },
     "execution_count": 2,
     "metadata": {},
     "output_type": "execute_result"
    }
   ],
   "source": [
    "import casadi as ca\n",
    "import numpy as np\n",
    "\n",
    "def create_xtrack_fun()->ca.Function:\n",
    "    a = ca.SX.sym('a', 2)\n",
    "    b = ca.SX.sym('b', 2)\n",
    "    pos = ca.SX.sym('pos', 2)\n",
    "    ba = (b - a)\n",
    "    ba_n = ba / ca.norm_2(ba)    \n",
    "    distance = pos - (a + (ba_n.T @ (pos - a)) * ba_n)\n",
    "    return ca.Function('xtrack', [a, b, pos], [ca.norm_2(distance)])\n",
    "    \n",
    "x_track = create_xtrack_fun()\n",
    "x_track.call([[0,0], [10,1], [1,2]])\n"
   ]
  },
  {
   "cell_type": "code",
   "execution_count": 30,
   "metadata": {},
   "outputs": [
    {
     "data": {
      "text/plain": [
       "SX([(A_0+x), (A_1+(2*cos(x))), (A_2+cos(x))])"
      ]
     },
     "execution_count": 30,
     "metadata": {},
     "output_type": "execute_result"
    }
   ],
   "source": [
    "A = ca.SX.sym('A', 3)\n",
    "\n",
    "x = ca.SX.sym('x')\n",
    "\n",
    "b = A +  ca.vertcat(x, 2 * ca.cos(x), ca.cos(x))\n",
    "b"
   ]
  },
  {
   "cell_type": "code",
   "execution_count": 11,
   "metadata": {},
   "outputs": [
    {
     "name": "stdout",
     "output_type": "stream",
     "text": [
      "\n",
      "[[A_0, A_10, A_20], \n",
      " [A_1, A_11, A_21], \n",
      " [A_2, A_12, A_22], \n",
      " [A_3, A_13, A_23], \n",
      " [A_4, A_14, A_24], \n",
      " [A_5, A_15, A_25], \n",
      " [A_6, A_16, A_26], \n",
      " [A_7, A_17, A_27], \n",
      " [A_8, A_18, A_28], \n",
      " [A_9, A_19, A_29]]\n"
     ]
    },
    {
     "data": {
      "text/plain": [
       "SX([[A_0, A_10]])"
      ]
     },
     "execution_count": 11,
     "metadata": {},
     "output_type": "execute_result"
    }
   ],
   "source": [
    "A = ca.SX.sym('A',10, 3)\n",
    "print(A)\n",
    "A[0, :2]"
   ]
  },
  {
   "cell_type": "code",
   "execution_count": 17,
   "metadata": {},
   "outputs": [
    {
     "name": "stdout",
     "output_type": "stream",
     "text": [
      "[0, 1, 2, 3, 4, 5, 6, 7, 8, 9]\n",
      "[1, 2, 3, 4, 5, 6, 7, 8, 9, 9]\n"
     ]
    }
   ],
   "source": [
    "import numpy as np\n",
    "states = np.zeros((10,4))\n",
    "states[0]\n",
    "d = ca.DM([i for i in range(10)])\n",
    "print(d)\n",
    "d[:-1] = d[1:]\n",
    "print(d)\n"
   ]
  }
 ],
 "metadata": {
  "kernelspec": {
   "display_name": "venv",
   "language": "python",
   "name": "python3"
  },
  "language_info": {
   "codemirror_mode": {
    "name": "ipython",
    "version": 3
   },
   "file_extension": ".py",
   "mimetype": "text/x-python",
   "name": "python",
   "nbconvert_exporter": "python",
   "pygments_lexer": "ipython3",
   "version": "3.11.9"
  }
 },
 "nbformat": 4,
 "nbformat_minor": 2
}
