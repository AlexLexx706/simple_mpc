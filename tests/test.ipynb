{
 "cells": [
  {
   "cell_type": "code",
   "execution_count": 1,
   "metadata": {},
   "outputs": [
    {
     "data": {
      "text/plain": [
       "[DM(1.89057)]"
      ]
     },
     "execution_count": 1,
     "metadata": {},
     "output_type": "execute_result"
    }
   ],
   "source": [
    "import casadi as ca\n",
    "import numpy as np\n",
    "\n",
    "def create_xtrack_fun()->ca.Function:\n",
    "    a = ca.SX.sym('a', 2)\n",
    "    b = ca.SX.sym('b', 2)\n",
    "    pos = ca.SX.sym('pos', 2)\n",
    "    ba = (b - a)\n",
    "    ba_n = ba / ca.norm_2(ba)    \n",
    "    distance = pos - (a + (ba_n.T @ (pos - a)) * ba_n)\n",
    "    return ca.Function('xtrack', [a, b, pos], [ca.norm_2(distance)])\n",
    "    \n",
    "x_track = create_xtrack_fun()\n",
    "x_track.call([[0,0], [10,1], [1,2]])\n"
   ]
  },
  {
   "cell_type": "code",
   "execution_count": 2,
   "metadata": {},
   "outputs": [
    {
     "data": {
      "text/plain": [
       "SX([(A_0+x), (A_1+(2*cos(x))), (A_2+cos(x))])"
      ]
     },
     "execution_count": 2,
     "metadata": {},
     "output_type": "execute_result"
    }
   ],
   "source": [
    "A = ca.SX.sym('A', 3)\n",
    "\n",
    "x = ca.SX.sym('x')\n",
    "\n",
    "b = A +  ca.vertcat(x, 2 * ca.cos(x), ca.cos(x))\n",
    "b"
   ]
  },
  {
   "cell_type": "code",
   "execution_count": 3,
   "metadata": {},
   "outputs": [
    {
     "name": "stdout",
     "output_type": "stream",
     "text": [
      "\n",
      "[[A_0, A_10, A_20], \n",
      " [A_1, A_11, A_21], \n",
      " [A_2, A_12, A_22], \n",
      " [A_3, A_13, A_23], \n",
      " [A_4, A_14, A_24], \n",
      " [A_5, A_15, A_25], \n",
      " [A_6, A_16, A_26], \n",
      " [A_7, A_17, A_27], \n",
      " [A_8, A_18, A_28], \n",
      " [A_9, A_19, A_29]]\n"
     ]
    },
    {
     "data": {
      "text/plain": [
       "SX([[A_0, A_10]])"
      ]
     },
     "execution_count": 3,
     "metadata": {},
     "output_type": "execute_result"
    }
   ],
   "source": [
    "A = ca.SX.sym('A',10, 3)\n",
    "print(A)\n",
    "A[0, :2]"
   ]
  },
  {
   "cell_type": "code",
   "execution_count": 4,
   "metadata": {},
   "outputs": [
    {
     "name": "stdout",
     "output_type": "stream",
     "text": [
      "[0, 1, 2, 3, 4, 5, 6, 7, 8, 9]\n",
      "[1, 2, 3, 4, 5, 6, 7, 8, 9, 9]\n"
     ]
    }
   ],
   "source": [
    "import numpy as np\n",
    "states = np.zeros((10,4))\n",
    "states[0]\n",
    "d = ca.DM([i for i in range(10)])\n",
    "print(d)\n",
    "d[:-1] = d[1:]\n",
    "print(d)\n"
   ]
  },
  {
   "cell_type": "code",
   "execution_count": 5,
   "metadata": {},
   "outputs": [
    {
     "data": {
      "text/plain": [
       "DM(10)"
      ]
     },
     "execution_count": 5,
     "metadata": {},
     "output_type": "execute_result"
    }
   ],
   "source": [
    "A = ca.SX.sym('A', 3,2)\n",
    "x = A[0,:]\n",
    "y = A[1,:].T\n",
    "\n",
    "f = ca.Function(\"test\", [x, y], [x @ y])\n",
    "# print(A, ca.sqrt(x[0]**2 + x[1]**2))\n",
    "f([1,0], [10,0])"
   ]
  },
  {
   "cell_type": "code",
   "execution_count": 6,
   "metadata": {},
   "outputs": [
    {
     "data": {
      "text/plain": [
       "(1, 2)"
      ]
     },
     "execution_count": 6,
     "metadata": {},
     "output_type": "execute_result"
    }
   ],
   "source": [
    "phi = ca.MX.sym('phi')\n",
    "\n",
    "# Вектор, содержащий cos(phi) и sin(phi)\n",
    "vector = ca.horzcat(ca.cos(phi), ca.sin(phi))\n",
    "vector.shape\n"
   ]
  },
  {
   "cell_type": "code",
   "execution_count": 7,
   "metadata": {},
   "outputs": [
    {
     "name": "stdout",
     "output_type": "stream",
     "text": [
      "A:(1, 2) B:(1, 2)\n",
      "t:1.5\n",
      "xtrack:10\n",
      "heading_errro:10.000000000000012\n"
     ]
    }
   ],
   "source": [
    "from mpc.mpc_casadi import MPCCasadi\n",
    "import math\n",
    "A = ca.SX.sym('A', 2).T\n",
    "B = ca.SX.sym('B', 2).T\n",
    "POS = ca.SX.sym('POS', 2).T\n",
    "HEADING = ca.SX.sym('HEADING')\n",
    "print(f'A:{A.shape} B:{B.shape}')\n",
    "\n",
    "xtrack, heading_errro, t = MPCCasadi.get_track_values(A, B, POS, HEADING)\n",
    "t_fun = ca.Function('t', [A,B, POS, HEADING], [t])\n",
    "t_xtrack = ca.Function('xtrack', [A,B, POS, HEADING], [xtrack])\n",
    "t_heading_errro = ca.Function('heading_errro', [A,B, POS, HEADING], [heading_errro])\n",
    "\n",
    "state = [[0, 0], [100, 0], [150, -10], math.radians(10)]\n",
    "print(f\"t:{t_fun(state[0], state[1], state[2], state[3])}\")\n",
    "print(f\"xtrack:{t_xtrack(state[0], state[1], state[2], state[3])}\")\n",
    "print(f\"heading_errro:{math.degrees(t_heading_errro(state[0], state[1], state[2], state[3]))}\")\n"
   ]
  },
  {
   "cell_type": "code",
   "execution_count": 8,
   "metadata": {},
   "outputs": [
    {
     "name": "stdout",
     "output_type": "stream",
     "text": [
      "A:(1, 2) B:(1, 2)\n"
     ]
    },
    {
     "ename": "NotImplementedError",
     "evalue": "Wrong number or type of arguments for overloaded function 'Function_call'.\n  Possible prototypes are:\n    call(self,dict:DM,bool,bool)\n    call(self,[DM],bool,bool)\n    call(self,[SX],bool,bool)\n    call(self,dict:SX,bool,bool)\n    call(self,dict:MX,bool,bool)\n    call(self,[MX],bool,bool)\n  You have: '(Function,([[float]],[float],float))'\n",
     "output_type": "error",
     "traceback": [
      "\u001b[0;31m---------------------------------------------------------------------------\u001b[0m",
      "\u001b[0;31mNotImplementedError\u001b[0m                       Traceback (most recent call last)",
      "\u001b[0;32m/tmp/ipykernel_1515510/2498526102.py\u001b[0m in \u001b[0;36m?\u001b[0;34m()\u001b[0m\n\u001b[1;32m     12\u001b[0m \u001b[0;34m\u001b[0m\u001b[0m\n\u001b[1;32m     13\u001b[0m \u001b[0mpath\u001b[0m \u001b[0;34m=\u001b[0m \u001b[0;34m[\u001b[0m\u001b[0;34m[\u001b[0m\u001b[0;36m0.\u001b[0m\u001b[0;34m,\u001b[0m\u001b[0;36m0.\u001b[0m\u001b[0;34m]\u001b[0m\u001b[0;34m,\u001b[0m \u001b[0;34m[\u001b[0m\u001b[0;36m0.\u001b[0m\u001b[0;34m,\u001b[0m \u001b[0;36m10.\u001b[0m\u001b[0;34m]\u001b[0m\u001b[0;34m,\u001b[0m \u001b[0;34m[\u001b[0m\u001b[0;36m10.\u001b[0m\u001b[0;34m,\u001b[0m \u001b[0;36m10.\u001b[0m\u001b[0;34m]\u001b[0m\u001b[0;34m]\u001b[0m\u001b[0;34m\u001b[0m\u001b[0;34m\u001b[0m\u001b[0m\n\u001b[1;32m     14\u001b[0m \u001b[0mpos\u001b[0m \u001b[0;34m=\u001b[0m \u001b[0;34m[\u001b[0m\u001b[0;36m1.\u001b[0m\u001b[0;34m,\u001b[0m \u001b[0;36m2.\u001b[0m\u001b[0;34m]\u001b[0m\u001b[0;34m\u001b[0m\u001b[0;34m\u001b[0m\u001b[0m\n\u001b[1;32m     15\u001b[0m \u001b[0mheading\u001b[0m \u001b[0;34m=\u001b[0m \u001b[0mmath\u001b[0m\u001b[0;34m.\u001b[0m\u001b[0mradians\u001b[0m\u001b[0;34m(\u001b[0m\u001b[0;36m0\u001b[0m\u001b[0;34m)\u001b[0m\u001b[0;34m\u001b[0m\u001b[0;34m\u001b[0m\u001b[0m\n\u001b[0;32m---> 16\u001b[0;31m \u001b[0mprint\u001b[0m\u001b[0;34m(\u001b[0m\u001b[0;34mf\"f_xt:{f_xt(path, pos, heading)}\"\u001b[0m\u001b[0;34m)\u001b[0m\u001b[0;34m\u001b[0m\u001b[0;34m\u001b[0m\u001b[0m\n\u001b[0m\u001b[1;32m     17\u001b[0m \u001b[0mprint\u001b[0m\u001b[0;34m(\u001b[0m\u001b[0;34mf\"f_he:{f_he(path, pos, heading)}\"\u001b[0m\u001b[0;34m)\u001b[0m\u001b[0;34m\u001b[0m\u001b[0;34m\u001b[0m\u001b[0m\n",
      "\u001b[0;32m~/projects/tests/test_mpc/venv/lib/python3.11/site-packages/casadi/casadi.py\u001b[0m in \u001b[0;36m?\u001b[0;34m(self, *args, **kwargs)\u001b[0m\n\u001b[1;32m  23543\u001b[0m       \u001b[0;32mif\u001b[0m \u001b[0mlen\u001b[0m\u001b[0;34m(\u001b[0m\u001b[0margs\u001b[0m\u001b[0;34m)\u001b[0m\u001b[0;34m>\u001b[0m\u001b[0;36m0\u001b[0m \u001b[0;32mand\u001b[0m \u001b[0mlen\u001b[0m\u001b[0;34m(\u001b[0m\u001b[0mkwargs\u001b[0m\u001b[0;34m)\u001b[0m\u001b[0;34m>\u001b[0m\u001b[0;36m0\u001b[0m\u001b[0;34m:\u001b[0m\u001b[0;34m\u001b[0m\u001b[0;34m\u001b[0m\u001b[0m\n\u001b[1;32m  23544\u001b[0m         \u001b[0;32mraise\u001b[0m \u001b[0mSyntaxError\u001b[0m\u001b[0;34m(\u001b[0m\u001b[0;34m'Function evaluation requires all arguments to be named or none'\u001b[0m\u001b[0;34m)\u001b[0m\u001b[0;34m\u001b[0m\u001b[0;34m\u001b[0m\u001b[0m\n\u001b[1;32m  23545\u001b[0m       \u001b[0;32mif\u001b[0m \u001b[0mlen\u001b[0m\u001b[0;34m(\u001b[0m\u001b[0margs\u001b[0m\u001b[0;34m)\u001b[0m\u001b[0;34m>\u001b[0m\u001b[0;36m0\u001b[0m\u001b[0;34m:\u001b[0m\u001b[0;34m\u001b[0m\u001b[0;34m\u001b[0m\u001b[0m\n\u001b[1;32m  23546\u001b[0m     \u001b[0;31m# Ordered inputs -> return tuple\u001b[0m\u001b[0;34m\u001b[0m\u001b[0;34m\u001b[0m\u001b[0m\n\u001b[0;32m> 23547\u001b[0;31m         \u001b[0mret\u001b[0m \u001b[0;34m=\u001b[0m \u001b[0mself\u001b[0m\u001b[0;34m.\u001b[0m\u001b[0mcall\u001b[0m\u001b[0;34m(\u001b[0m\u001b[0margs\u001b[0m\u001b[0;34m)\u001b[0m\u001b[0;34m\u001b[0m\u001b[0;34m\u001b[0m\u001b[0m\n\u001b[0m\u001b[1;32m  23548\u001b[0m         \u001b[0;32mif\u001b[0m \u001b[0mlen\u001b[0m\u001b[0;34m(\u001b[0m\u001b[0mret\u001b[0m\u001b[0;34m)\u001b[0m\u001b[0;34m==\u001b[0m\u001b[0;36m0\u001b[0m\u001b[0;34m:\u001b[0m\u001b[0;34m\u001b[0m\u001b[0;34m\u001b[0m\u001b[0m\n\u001b[1;32m  23549\u001b[0m           \u001b[0;32mreturn\u001b[0m \u001b[0;32mNone\u001b[0m\u001b[0;34m\u001b[0m\u001b[0;34m\u001b[0m\u001b[0m\n\u001b[1;32m  23550\u001b[0m         \u001b[0;32melif\u001b[0m \u001b[0mlen\u001b[0m\u001b[0;34m(\u001b[0m\u001b[0mret\u001b[0m\u001b[0;34m)\u001b[0m\u001b[0;34m==\u001b[0m\u001b[0;36m1\u001b[0m\u001b[0;34m:\u001b[0m\u001b[0;34m\u001b[0m\u001b[0;34m\u001b[0m\u001b[0m\n",
      "\u001b[0;32m~/projects/tests/test_mpc/venv/lib/python3.11/site-packages/casadi/casadi.py\u001b[0m in \u001b[0;36m?\u001b[0;34m(self, *args)\u001b[0m\n\u001b[1;32m  20201\u001b[0m \u001b[0;34m\u001b[0m\u001b[0m\n\u001b[1;32m  20202\u001b[0m \u001b[0;34m\u001b[0m\u001b[0m\n\u001b[1;32m  20203\u001b[0m \u001b[0;34m\u001b[0m\u001b[0m\n\u001b[1;32m  20204\u001b[0m         \"\"\"\n\u001b[0;32m> 20205\u001b[0;31m         \u001b[0;32mreturn\u001b[0m \u001b[0m_casadi\u001b[0m\u001b[0;34m.\u001b[0m\u001b[0mFunction_call\u001b[0m\u001b[0;34m(\u001b[0m\u001b[0mself\u001b[0m\u001b[0;34m,\u001b[0m \u001b[0;34m*\u001b[0m\u001b[0margs\u001b[0m\u001b[0;34m)\u001b[0m\u001b[0;34m\u001b[0m\u001b[0;34m\u001b[0m\u001b[0m\n\u001b[0m",
      "\u001b[0;31mNotImplementedError\u001b[0m: Wrong number or type of arguments for overloaded function 'Function_call'.\n  Possible prototypes are:\n    call(self,dict:DM,bool,bool)\n    call(self,[DM],bool,bool)\n    call(self,[SX],bool,bool)\n    call(self,dict:SX,bool,bool)\n    call(self,dict:MX,bool,bool)\n    call(self,[MX],bool,bool)\n  You have: '(Function,([[float]],[float],float))'\n"
     ]
    }
   ],
   "source": [
    "from mpc.mpc_casadi import MPCCasadi\n",
    "import math\n",
    "path = ca.SX.sym('path', 3, 2)\n",
    "pos = ca.SX.sym('pos', 2).T\n",
    "heading = ca.SX.sym('heading')\n",
    "print(f'A:{A.shape} B:{B.shape}')\n",
    "\n",
    "xtrack, heading_error = MPCCasadi.get_track_cost(path, pos, heading)\n",
    "\n",
    "f_xt = ca.Function('f_xt', [path, pos, heading], [xtrack])\n",
    "f_he = ca.Function('f_he', [path, pos, heading], [heading_error])\n",
    "\n",
    "path = [[0.,0.], [0., 10.], [10., 10.]]\n",
    "pos = [1., 2.]\n",
    "heading = math.radians(0)\n",
    "print(f\"f_xt:{f_xt(path, pos, heading)}\")\n",
    "print(f\"f_he:{f_he(path, pos, heading)}\")\n"
   ]
  },
  {
   "cell_type": "code",
   "execution_count": null,
   "metadata": {},
   "outputs": [
    {
     "data": {
      "text/plain": [
       "DM(4)"
      ]
     },
     "execution_count": 15,
     "metadata": {},
     "output_type": "execute_result"
    }
   ],
   "source": [
    "import casadi as ca\n",
    "import numpy as np\n",
    "from typing import List, Tuple\n",
    "\n",
    "A = ca.SX.sym('A', 1)\n",
    "b = A * A\n",
    "test = ca.Function('test', [A,], [b,])\n",
    "test(2)\n",
    "\n",
    "\n",
    "\n",
    "def get_distance(polygon:List[Tuple[float, float]], circle:Tuple[Tuple[float, float], float])->float:\n",
    "    \"\"\"return distance between polygon and circle. \n",
    "\n",
    "    Args:\n",
    "        poligon (List[Tuple[float, float]]): points of poligon\n",
    "        circle (Tuple[Tuple[float, float], float]): circle description: ((x,y), radius)\n",
    "    Return (float): result >= 0 - object not intersected, result < 0 intersected  \n",
    "    \"\"\"\n",
    "    for index in range(len(polygon) - 1):\n",
    "        point_a = polygon[index]\n",
    "        point_b = polygon[index + 1]\n",
    "        ba = point_b - point_a\n",
    "        normal_ba = ca.horzcat(-ba[1], ba[0]) / ca.norm_2(ba)\n",
    "        line_offset = normal_ba.T @ point_a\n",
    "        return line_offset\n",
    "\n",
    "\n",
    "    "
   ]
  }
 ],
 "metadata": {
  "kernelspec": {
   "display_name": "venv",
   "language": "python",
   "name": "python3"
  },
  "language_info": {
   "codemirror_mode": {
    "name": "ipython",
    "version": 3
   },
   "file_extension": ".py",
   "mimetype": "text/x-python",
   "name": "python",
   "nbconvert_exporter": "python",
   "pygments_lexer": "ipython3",
   "version": "3.11.9"
  }
 },
 "nbformat": 4,
 "nbformat_minor": 2
}
